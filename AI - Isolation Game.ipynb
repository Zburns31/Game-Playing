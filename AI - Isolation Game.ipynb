{
 "cells": [
  {
   "cell_type": "markdown",
   "id": "5c06a887",
   "metadata": {},
   "source": [
    "# About the Game\n",
    "\n",
    "The rules of 3 Snails Isolation are a variation of the original Isolation. In the original form of the game there are two players, each with their own game piece, and a 7-by-7 grid of squares. At the beginning of the game, the first player places their piece on any square. The second player follows suit, and places their piece on any one of the available squares. From that point on, the players alternate turns moving their piece like a queen in chess (any number of open squares vertically, horizontally, or diagonally). When the piece is moved, the square that was previously occupied is blocked, and cannot be used for the remainder of the game. The first player who is unable to move their queen loses.\n",
    "\n",
    "In this 3 Snails variant, each player controls 3 pieces (\"snails\"), each of which can only move to 1 surrounding square, either to the left/right or directly above/below it. Once a piece moves away from a square, no other piece can occupy the square again, as in the original Isolation game. For clarity, examine the scenario below:\n",
    "\n",
    "In the image below, both Q1 and Q2 place their snails on the board. Note, that when choosing your move, you must ensure your moves are selected in proper order\n",
    "\n",
    "\n",
    "![](./img/sn_1.png)\n",
    "\n",
    "In the image below, Q1 is in the process of choosing its next set of moves. It has chosen 2 moves already, which are printed in the output box, and still needs to pick where \"13\" will move. Note that the possible moves for any given piece is either to the left/down or directly above/below it.\n",
    "\n",
    "![](./img/sn_2.png)\n",
    "\n",
    "Q1 makes its move and Q2 has already chosen the next set of moves. In the image below, Q2 tried to move two of its snails to the same location. Such moves are illegal, as indicated by the message in the output box.\n",
    "\n",
    "![](./img/sn_3.png)\n",
    "\n",
    "\n",
    "\n",
    "You can try playing the game against the Random Player or yourself using the interactive tool below."
   ]
  },
  {
   "cell_type": "markdown",
   "id": "b0902d2c",
   "metadata": {},
   "source": [
    "# Environment Setup"
   ]
  },
  {
   "cell_type": "code",
   "execution_count": 1,
   "id": "a9347c85",
   "metadata": {},
   "outputs": [
    {
     "name": "stdout",
     "output_type": "stream",
     "text": [
      "Your python version is  3.7.11\n",
      "✅ ALL GOOD\n"
     ]
    }
   ],
   "source": [
    "%run helpers/verify_config.py # verify the environment setup"
   ]
  },
  {
   "cell_type": "code",
   "execution_count": 5,
   "id": "0f98e680",
   "metadata": {},
   "outputs": [],
   "source": [
    "# Following two lines make sure anything imported from .py scripts \n",
    "# is automatically reloaded if edited & saved (e.g. local unit tests or players)\n",
    "%reload_ext autoreload\n",
    "\n",
    "# %load_ext autoreload\n",
    "# %autoreload 2\n",
    "from board_viz import ReplayGame, InteractiveGame\n",
    "from isolation import Board\n",
    "from test_players import RandomPlayer, HumanPlayer\n",
    "\n",
    "import time\n",
    "from isolation import Board\n",
    "\n",
    "import player_submission_tests as tests"
   ]
  },
  {
   "cell_type": "markdown",
   "id": "1cf68f4a",
   "metadata": {},
   "source": [
    "# Interactive Game & Playback"
   ]
  },
  {
   "cell_type": "code",
   "execution_count": 3,
   "id": "aaa957de",
   "metadata": {},
   "outputs": [
    {
     "data": {
      "application/vnd.jupyter.widget-view+json": {
       "model_id": "4b315a105ec847e998243ba9e6d8021b",
       "version_major": 2,
       "version_minor": 0
      },
      "text/plain": [
       "GridspecLayout(children=(Button(description=' ', layout=Layout(grid_area='widget001', height='auto', width='au…"
      ]
     },
     "metadata": {},
     "output_type": "display_data"
    },
    {
     "data": {
      "application/vnd.jupyter.widget-view+json": {
       "model_id": "621a710f10c54fd99a9766af57133ca9",
       "version_major": 2,
       "version_minor": 0
      },
      "text/plain": [
       "Output(layout=Layout(border='1px solid black'))"
      ]
     },
     "metadata": {},
     "output_type": "display_data"
    },
    {
     "name": "stdout",
     "output_type": "stream",
     "text": [
      "Game is over, the winner is: Player - Q1\n"
     ]
    }
   ],
   "source": [
    "##### NOTE: Need to click the squares order in which they move\n",
    "\n",
    "# Remove the first argument ('RandomPlayer()') entirely to play against another HumanPlayer\n",
    "ig = InteractiveGame(RandomPlayer(), show_legal_moves=True)"
   ]
  },
  {
   "cell_type": "code",
   "execution_count": 4,
   "id": "2044c81c",
   "metadata": {},
   "outputs": [
    {
     "data": {
      "application/vnd.jupyter.widget-view+json": {
       "model_id": "f33d41d219ff42a684ec60062023b9b7",
       "version_major": 2,
       "version_minor": 0
      },
      "text/plain": [
       "GridspecLayout(children=(GridspecLayout(children=(Button(description=' ', layout=Layout(grid_area='widget001',…"
      ]
     },
     "metadata": {},
     "output_type": "display_data"
    }
   ],
   "source": [
    "# Here is an example of how to visualise a game replay of 2 random players\n",
    "game = Board(RandomPlayer(), RandomPlayer(), 7, 7)\n",
    "winner, move_history, termination = game.play_isolation(time_limit=1000, print_moves=False)\n",
    "\n",
    "bg = ReplayGame(game, move_history, show_legal_moves=True)\n",
    "bg.show_board()"
   ]
  },
  {
   "cell_type": "markdown",
   "id": "c16b9db1",
   "metadata": {},
   "source": [
    "# Game AI\n",
    "---------------------------------\n",
    "\n",
    "As the game board in Isolation is fully viewable by both players at all times, the game is fully observable, adversarial, and deterministic. This allows the development of an AI-based game playing agent using suitable algorithms and heuristics, including Minimax\n",
    "\n",
    "## The Minimax Algorithm\n",
    "\n",
    "Minimax is a decision-making algorithm, **typically used in a turn-based, two player games**. The goal of the algorithm is to find the optimal next move\n",
    "\n",
    "- **Idea:** Choose move to position with highest minimax value = best achievable payoff against best play\n",
    "- **Perfect (optimal) play for deterministic, perfect-information games**\n",
    "\n",
    "### Minimax Algorithm Summary\n",
    "\n",
    "- In the algorithm, one player is called the maximizer, and the other  player is a minimizer. If we assign an evaluation score to the game board, one player tries to choose a game state with the maximum score, while the other chooses a state with the minimum score\n",
    "\n",
    "\n",
    "- In other words, the **maximizer works to get the highest score, while the minimizer tries get the lowest score** by trying to counter moves\n",
    "\n",
    "\n",
    "- It is based on the [zero-sum game](https://en.wikipedia.org/wiki/Zero-sum_game) concept. **In a zero-sum game, the total utility score is divided among the players. An increase in one player's score results into the decrease in another  player's score.** So, the total score is always zero. For one  player to win, the other one has to lose. Examples of such games are chess, poker, checkers, tic-tac-toe\n",
    "\n",
    "\n",
    "- We traverse the game tree ***depth-first*** until we reach the terminal nodes and assign their parent node a value that is best for the player whose turn it is to move. For example, the game tree of a game of tic-tac-toe looks like:\n",
    "\n",
    "![](./img/tictactoe-gametree.png)\n"
   ]
  },
  {
   "cell_type": "code",
   "execution_count": null,
   "id": "c067b20c",
   "metadata": {},
   "outputs": [],
   "source": [
    "## About"
   ]
  },
  {
   "cell_type": "code",
   "execution_count": 1,
   "id": "234a7bfd",
   "metadata": {},
   "outputs": [
    {
     "ename": "NameError",
     "evalue": "name 'tests' is not defined",
     "output_type": "error",
     "traceback": [
      "\u001b[0;31m---------------------------------------------------------------------------\u001b[0m",
      "\u001b[0;31mNameError\u001b[0m                                 Traceback (most recent call last)",
      "\u001b[0;32m/var/folders/w6/0f2_jzl144726jrph2y2bn5h0000gn/T/ipykernel_38161/994367577.py\u001b[0m in \u001b[0;36m<module>\u001b[0;34m\u001b[0m\n\u001b[1;32m     41\u001b[0m \u001b[0;31m######################################################################\u001b[0m\u001b[0;34m\u001b[0m\u001b[0;34m\u001b[0m\u001b[0;34m\u001b[0m\u001b[0m\n\u001b[1;32m     42\u001b[0m \u001b[0;31m##### CODE BELOW IS USED FOR RUNNING LOCAL TEST DON'T MODIFY IT ######\u001b[0m\u001b[0;34m\u001b[0m\u001b[0;34m\u001b[0m\u001b[0;34m\u001b[0m\u001b[0m\n\u001b[0;32m---> 43\u001b[0;31m \u001b[0mtests\u001b[0m\u001b[0;34m.\u001b[0m\u001b[0mcorrectOpenEvalFn\u001b[0m\u001b[0;34m(\u001b[0m\u001b[0mOpenMoveEvalFn\u001b[0m\u001b[0;34m)\u001b[0m\u001b[0;34m\u001b[0m\u001b[0;34m\u001b[0m\u001b[0m\n\u001b[0m\u001b[1;32m     44\u001b[0m \u001b[0;31m################ END OF LOCAL TEST CODE SECTION ######################\u001b[0m\u001b[0;34m\u001b[0m\u001b[0;34m\u001b[0m\u001b[0;34m\u001b[0m\u001b[0m\n",
      "\u001b[0;31mNameError\u001b[0m: name 'tests' is not defined"
     ]
    }
   ],
   "source": [
    "#export\n",
    "class OpenMoveEvalFn:\n",
    "    def score(self, game, my_player=None, my_turn=None):\n",
    "        \"\"\"Score the current game state\n",
    "        Evaluation function that outputs a score equal to how many\n",
    "        moves are open for AI player on the board minus how many moves\n",
    "        are open for Opponent's player on the board.\n",
    "\n",
    "        Note:\n",
    "            If you think of better evaluation function, do it in CustomEvalFn below.\n",
    "\n",
    "            Args\n",
    "                game (Board): The board and game state.\n",
    "                my_player (Player object): This specifies which player you are.\n",
    "\n",
    "            Returns:\n",
    "                float: The current state's score. MyMoves-OppMoves.\n",
    "\n",
    "            \"\"\"\n",
    "        # Simple crude heuristic which favours the number of possible moves our AI has in comparison\n",
    "        # to the other player. CustomPlayer is always trying to maximize this value\n",
    "        # and RandomPlayer is trying to minimimize\n",
    "        if my_turn:\n",
    "            my_moves = game.get_active_moves()\n",
    "            opp_moves = game.get_inactive_moves()\n",
    "\n",
    "#             num_active_moves_my_player = game.get_player_moves(my_player=my_player)\n",
    "#             num_active_moves_opponent = game.get_opponent_moves(my_player=my_player)\n",
    "            \n",
    "        else:\n",
    "            my_moves = game.get_inactive_moves()\n",
    "            opp_moves = game.get_active_moves()\n",
    "#             num_active_moves_my_player = game.get_opponent_moves(my_player=my_player)\n",
    "#             num_active_moves_opponent = game.get_player_moves(my_player=my_player)\n",
    "        \n",
    "        return  len(my_moves) - len(opp_moves)\n",
    "\n",
    "######################################################################\n",
    "########## DON'T WRITE ANY CODE OUTSIDE THE FUNCTION! ################\n",
    "######## IF YOU WANT TO CALL OR TEST IT CREATE A NEW CELL ############\n",
    "######################################################################\n",
    "##### CODE BELOW IS USED FOR RUNNING LOCAL TEST DON'T MODIFY IT ######\n",
    "tests.correctOpenEvalFn(OpenMoveEvalFn)\n",
    "################ END OF LOCAL TEST CODE SECTION ######################"
   ]
  },
  {
   "cell_type": "code",
   "execution_count": 8,
   "id": "0229a640",
   "metadata": {},
   "outputs": [],
   "source": [
    "#export\n",
    "class CustomPlayer:\n",
    "    # TODO: finish this class!\n",
    "    \"\"\"Player that chooses a move using your evaluation function\n",
    "    and a minimax algorithm with alpha-beta pruning.\n",
    "    You must finish and test this player to make sure it properly\n",
    "    uses minimax and alpha-beta to return a good move.\"\"\"\n",
    "\n",
    "    def __init__(self, search_depth=3, eval_fn=OpenMoveEvalFn()):\n",
    "        \"\"\"Initializes your player.\n",
    "        \n",
    "        if you find yourself with a superior eval function, update the default\n",
    "        value of `eval_fn` to `CustomEvalFn()`\n",
    "        \n",
    "        Args:\n",
    "            search_depth (int): The depth to which your agent will search\n",
    "            eval_fn (function): Evaluation function used by your agent\n",
    "        \"\"\"\n",
    "        self.eval_fn = eval_fn\n",
    "        self.search_depth = search_depth\n",
    "    \n",
    "    def move(self, game, time_left):\n",
    "        \"\"\"Called to determine one move by your agent\n",
    "\n",
    "        Note:\n",
    "            1. Do NOT change the name of this 'move' function. We are going to call\n",
    "            this function directly.\n",
    "            2. Call alphabeta instead of minimax once implemented.\n",
    "        Args:\n",
    "            game (Board): The board and game state.\n",
    "            time_left (function): Used to determine time left before timeout\n",
    "\n",
    "        Returns:\n",
    "            tuple: ((int,int),(int,int),(int,int)): Your best move\n",
    "        \"\"\"\n",
    "        best_move, utility = minimax(self, game, time_left, depth=self.search_depth)\n",
    "        print(f\"AI Player: Moving {best_move} with value {utility}\")\n",
    "        print(\"---------------------------\")\n",
    "        return best_move\n",
    "\n",
    "    def utility(self, game, my_turn):\n",
    "        \"\"\"You can handle special cases here (e.g. endgame)\"\"\"\n",
    "        return self.eval_fn.score(game, self)\n",
    "\n",
    "\n",
    "\n",
    "###################################################################\n",
    "########## DON'T WRITE ANY CODE OUTSIDE THE CLASS! ################\n",
    "###### IF YOU WANT TO CALL OR TEST IT CREATE A NEW CELL ###########\n",
    "###################################################################"
   ]
  },
  {
   "cell_type": "code",
   "execution_count": 9,
   "id": "a85331d3",
   "metadata": {},
   "outputs": [
    {
     "name": "stdout",
     "output_type": "stream",
     "text": [
      "R1\n"
     ]
    },
    {
     "data": {
      "text/plain": [
       "[[' ', ' ', ' ', ' ', ' ', ' ', ' '],\n",
       " [' ', '11', ' ', ' ', ' ', ' ', ' '],\n",
       " [' ', ' ', ' ', ' ', '22', ' ', ' '],\n",
       " [' ', ' ', '12', ' ', ' ', ' ', ' '],\n",
       " [' ', ' ', ' ', ' ', '23', ' ', ' '],\n",
       " [' ', '21', ' ', ' ', ' ', '13', ' '],\n",
       " [' ', ' ', ' ', ' ', ' ', ' ', ' ']]"
      ]
     },
     "execution_count": 9,
     "metadata": {},
     "output_type": "execute_result"
    }
   ],
   "source": [
    "# dir(Board)\n",
    "\n",
    "t1_state = [\n",
    "     [' ', ' ', ' ', ' ', ' ', ' ', ' '],\n",
    "     [' ', '11', ' ', ' ', ' ', ' ', ' '],\n",
    "     [' ', ' ', ' ', ' ', '22', ' ', ' '],\n",
    "     [' ', ' ', '12', ' ', ' ', ' ', ' '],\n",
    "     [' ', ' ', ' ', ' ', '23', ' ', ' '],\n",
    "     [' ', '21', ' ', ' ', ' ', '13', ' '],\n",
    "     [' ', ' ', ' ', ' ', ' ', ' ', ' ']\n",
    "]\n",
    "\n",
    "r1 = RandomPlayer(name=\"R1\")\n",
    "r2 = RandomPlayer(name=\"R2\")\n",
    "test_game = Board(r1, r2 , 7, 7)\n",
    "test_game.set_state(t1_state, p1_turn=True)\n",
    "print(test_game.get_active_player().get_name())\n",
    "test_game.get_state()"
   ]
  },
  {
   "cell_type": "code",
   "execution_count": 54,
   "id": "5b883cd7",
   "metadata": {},
   "outputs": [
    {
     "name": "stdout",
     "output_type": "stream",
     "text": [
      "\n",
      "\n",
      " RandomPlayer - Q1  Turn\n",
      "move chosen: Q1 to (3, 6), Q2 to (2, 6), and Q3 to (1, 4)\n",
      "  |0 |1 |2 |3 |4 |5 |6 |\n",
      "0 |21|  |  |  |  |  |  |\n",
      "1 |  |  |  |  |13|  |  |\n",
      "2 |  |  |  |  |><|><|12|\n",
      "3 |  |  |23|  |  |><|11|\n",
      "4 |  |  |  |  |  |22|  |\n",
      "5 |  |  |  |  |  |  |  |\n",
      "6 |  |  |  |  |  |  |  |\n",
      "\n",
      " CustomPlayer - Q2  Turn\n",
      "Finding Opponents best move: ((4, 6), (1, 6), (0, 4)) with value 14\n",
      "Finding Opponents best move: ((4, 6), (1, 6), (1, 3)) with value 12\n",
      "Finding Opponents best move: ((4, 6), (1, 6), (0, 4)) with value 14\n",
      "Finding Opponents best move: ((4, 6), (1, 6), (1, 3)) with value 12\n",
      "Finding Opponents best move: ((4, 6), (1, 6), (0, 4)) with value 14\n",
      "Finding Opponents best move: ((4, 6), (1, 6), (1, 3)) with value 8\n",
      "Finding Opponents best move: ((4, 6), (1, 6), (0, 4)) with value 14\n",
      "Finding Opponents best move: ((4, 6), (1, 6), (1, 3)) with value 8\n",
      "Finding Opponents best move: ((4, 6), (1, 6), (0, 4)) with value 23\n",
      "Finding Opponents best move: ((4, 6), (1, 6), (1, 3)) with value 21\n",
      "Finding Opponents best move: ((4, 6), (1, 6), (0, 4)) with value 23\n",
      "Finding Opponents best move: ((4, 6), (1, 6), (1, 3)) with value 21\n",
      "Finding Opponents best move: ((4, 6), (1, 6), (0, 4)) with value 23\n",
      "Finding Opponents best move: ((4, 6), (1, 6), (1, 3)) with value 21\n",
      "Finding Opponents best move: ((4, 6), (1, 6), (0, 4)) with value 23\n",
      "Finding Opponents best move: ((4, 6), (1, 6), (1, 3)) with value 21\n",
      "Finding Opponents best move: ((4, 6), (1, 6), (0, 4)) with value 14\n",
      "Finding Opponents best move: ((4, 6), (1, 6), (1, 3)) with value 9\n",
      "Finding Opponents best move: ((4, 6), (1, 6), (0, 4)) with value 17\n",
      "Finding Opponents best move: ((4, 6), (1, 6), (1, 3)) with value 15\n",
      "Finding Opponents best move: ((4, 6), (1, 6), (0, 4)) with value 14\n",
      "Finding Opponents best move: ((4, 6), (1, 6), (1, 3)) with value 9\n",
      "Finding Opponents best move: ((4, 6), (1, 6), (0, 4)) with value 17\n",
      "Finding Opponents best move: ((4, 6), (1, 6), (1, 3)) with value 15\n",
      "Finding Opponents best move: ((4, 6), (1, 6), (0, 4)) with value 23\n",
      "Finding Opponents best move: ((4, 6), (1, 6), (1, 3)) with value 21\n",
      "Finding Opponents best move: ((4, 6), (1, 6), (0, 4)) with value 23\n",
      "Finding Opponents best move: ((4, 6), (1, 6), (1, 3)) with value 21\n",
      "Finding Opponents best move: ((4, 6), (1, 6), (0, 4)) with value 23\n",
      "Finding Opponents best move: ((4, 6), (1, 6), (1, 3)) with value 21\n",
      "Finding Opponents best move: ((4, 6), (1, 6), (0, 4)) with value 23\n",
      "Finding Opponents best move: ((4, 6), (1, 6), (1, 3)) with value 21\n",
      "AI Player: Moving ((0, 1), (4, 6), (2, 2)) with value inf\n",
      "---------------------------\n",
      "move chosen: Q1 to (0, 1), Q2 to (4, 6), and Q3 to (2, 2)\n",
      "  |0 |1 |2 |3 |4 |5 |6 |\n",
      "0 |><|21|  |  |  |  |  |\n",
      "1 |  |  |  |  |13|  |  |\n",
      "2 |  |  |23|  |><|><|12|\n",
      "3 |  |  |><|  |  |><|11|\n",
      "4 |  |  |  |  |  |><|22|\n",
      "5 |  |  |  |  |  |  |  |\n",
      "6 |  |  |  |  |  |  |  |\n",
      "\n",
      " CustomPlayer - Q2  has won. Reason:  RandomPlayer - Q1 has no legal moves left.\n",
      "\n",
      "Running the Minimax test\n",
      "\n",
      "-7\n",
      "Minimax failed for depth:  1\n",
      "Finding Opponents best move: ((4, 4), (3, 2), (5, 1)) with value -9\n",
      "Finding Opponents best move: ((4, 4), (4, 1), (5, 1)) with value -12\n",
      "Finding Opponents best move: ((4, 4), (3, 2), (5, 1)) with value -9\n",
      "Finding Opponents best move: ((4, 4), (4, 1), (5, 1)) with value -12\n",
      "Finding Opponents best move: ((4, 4), (4, 1), (5, 1)) with value -12\n",
      "Finding Opponents best move: ((4, 4), (3, 2), (5, 1)) with value -9\n",
      "Finding Opponents best move: ((4, 4), (4, 1), (5, 1)) with value -12\n",
      "Finding Opponents best move: ((4, 4), (3, 2), (5, 1)) with value -7\n",
      "Finding Opponents best move: ((4, 4), (4, 1), (5, 1)) with value -10\n",
      "Finding Opponents best move: ((4, 4), (3, 2), (5, 1)) with value -7\n",
      "Finding Opponents best move: ((4, 4), (4, 1), (5, 1)) with value -10\n",
      "Finding Opponents best move: ((4, 4), (3, 2), (5, 1)) with value -8\n",
      "Finding Opponents best move: ((4, 4), (4, 1), (5, 1)) with value -11\n",
      "Finding Opponents best move: ((4, 4), (3, 2), (5, 1)) with value -8\n",
      "Finding Opponents best move: ((4, 4), (4, 1), (5, 1)) with value -11\n",
      "Finding Opponents best move: ((4, 4), (4, 1), (5, 1)) with value -10\n",
      "Finding Opponents best move: ((4, 4), (4, 1), (5, 1)) with value -10\n",
      "-10\n",
      "Minimax failed for depth:  2\n",
      "Finding Opponents best move: ((4, 4), (3, 2), (5, 1)) with value -inf\n",
      "Finding Opponents best move: ((4, 4), (3, 2), (5, 1)) with value -inf\n",
      "Finding Opponents best move: ((4, 4), (4, 1), (5, 1)) with value -inf\n",
      "Finding Opponents best move: ((4, 4), (3, 2), (5, 1)) with value -inf\n",
      "Finding Opponents best move: ((4, 4), (3, 2), (5, 1)) with value 5\n",
      "Finding Opponents best move: ((4, 4), (4, 1), (5, 1)) with value -1\n",
      "Finding Opponents best move: ((4, 4), (3, 2), (5, 1)) with value 5\n",
      "Finding Opponents best move: ((4, 4), (4, 1), (5, 1)) with value -1\n",
      "Finding Opponents best move: ((4, 4), (3, 2), (5, 1)) with value -8\n",
      "Finding Opponents best move: ((4, 4), (4, 1), (5, 1)) with value -11\n",
      "Finding Opponents best move: ((4, 4), (3, 2), (5, 1)) with value -8\n",
      "Finding Opponents best move: ((4, 4), (4, 1), (5, 1)) with value -11\n",
      "Finding Opponents best move: ((4, 4), (4, 1), (5, 1)) with value -1\n",
      "Finding Opponents best move: ((4, 4), (4, 1), (5, 1)) with value -1\n",
      "-1\n",
      "Minimax failed for depth:  3\n",
      "Finding Opponents best move: ((4, 4), (3, 2), (5, 1)) with value -inf\n",
      "Finding Opponents best move: ((4, 4), (3, 2), (5, 1)) with value -inf\n",
      "Finding Opponents best move: ((4, 4), (4, 1), (5, 1)) with value -inf\n",
      "Finding Opponents best move: ((4, 4), (3, 2), (5, 1)) with value -inf\n",
      "Finding Opponents best move: ((3, 4), (4, 0), (5, 0)) with value 2\n",
      "Finding Opponents best move: ((3, 4), (4, 0), (5, 2)) with value 1\n",
      "Finding Opponents best move: ((3, 4), (4, 0), (5, 0)) with value 3\n",
      "Finding Opponents best move: ((4, 4), (4, 1), (5, 1)) with value 3\n",
      "Finding Opponents best move: ((3, 4), (5, 3), (4, 1)) with value 1\n",
      "Finding Opponents best move: ((3, 4), (5, 3), (4, 1)) with value 3\n",
      "Finding Opponents best move: ((3, 4), (5, 3), (4, 1)) with value 1\n",
      "Finding Opponents best move: ((3, 4), (5, 3), (4, 1)) with value 3\n",
      "Finding Opponents best move: ((4, 3), (4, 0), (5, 0)) with value 2\n",
      "Finding Opponents best move: ((4, 3), (4, 0), (5, 0)) with value 5\n",
      "Finding Opponents best move: ((5, 2), (4, 4), (4, 1)) with value 2\n",
      "Finding Opponents best move: ((5, 2), (4, 4), (4, 1)) with value 5\n",
      "Finding Opponents best move: ((4, 5), (4, 0), (5, 0)) with value 2\n",
      "Finding Opponents best move: ((4, 5), (4, 0), (5, 2)) with value 1\n",
      "Finding Opponents best move: ((4, 5), (4, 0), (5, 0)) with value 5\n",
      "Finding Opponents best move: ((4, 5), (4, 0), (5, 2)) with value 4\n",
      "Finding Opponents best move: ((4, 5), (4, 4), (4, 1)) with value 2\n",
      "Finding Opponents best move: ((4, 5), (5, 3), (4, 1)) with value 1\n",
      "Finding Opponents best move: ((4, 5), (4, 4), (4, 1)) with value 5\n",
      "Finding Opponents best move: ((4, 5), (5, 3), (4, 1)) with value 4\n",
      "Finding Opponents best move: ((4, 5), (5, 3), (4, 1)) with value 1\n",
      "Finding Opponents best move: ((4, 5), (5, 3), (4, 1)) with value 4\n",
      "Finding Opponents best move: ((3, 4), (4, 0), (5, 0)) with value 2\n",
      "Finding Opponents best move: ((3, 4), (4, 0), (5, 2)) with value 1\n",
      "Finding Opponents best move: ((3, 4), (4, 0), (5, 0)) with value 3\n",
      "Finding Opponents best move: ((4, 4), (4, 1), (5, 1)) with value 3\n",
      "Finding Opponents best move: ((3, 4), (5, 3), (4, 1)) with value 1\n",
      "Finding Opponents best move: ((3, 4), (5, 3), (4, 1)) with value 3\n",
      "Finding Opponents best move: ((3, 4), (5, 3), (4, 1)) with value 1\n",
      "Finding Opponents best move: ((3, 4), (5, 3), (4, 1)) with value 3\n",
      "Finding Opponents best move: ((4, 3), (4, 0), (5, 0)) with value 2\n",
      "Finding Opponents best move: ((4, 3), (4, 0), (5, 0)) with value 5\n",
      "Finding Opponents best move: ((5, 2), (4, 4), (4, 1)) with value 2\n",
      "Finding Opponents best move: ((5, 2), (4, 4), (4, 1)) with value 5\n",
      "Finding Opponents best move: ((4, 5), (4, 0), (5, 0)) with value 2\n",
      "Finding Opponents best move: ((4, 5), (4, 0), (5, 2)) with value 1\n",
      "Finding Opponents best move: ((4, 5), (4, 0), (5, 0)) with value 5\n",
      "Finding Opponents best move: ((4, 5), (4, 0), (5, 2)) with value 4\n",
      "Finding Opponents best move: ((4, 5), (4, 4), (4, 1)) with value 2\n",
      "Finding Opponents best move: ((4, 5), (5, 3), (4, 1)) with value 1\n",
      "Finding Opponents best move: ((4, 5), (4, 4), (4, 1)) with value 5\n",
      "Finding Opponents best move: ((4, 5), (5, 3), (4, 1)) with value 4\n",
      "Finding Opponents best move: ((4, 5), (5, 3), (4, 1)) with value 1\n",
      "Finding Opponents best move: ((4, 5), (5, 3), (4, 1)) with value 4\n",
      "Finding Opponents best move: ((4, 4), (3, 2), (5, 1)) with value -inf\n",
      "Finding Opponents best move: ((4, 3), (3, 1), (4, 1)) with value 0\n",
      "Finding Opponents best move: ((4, 3), (3, 1), (5, 0)) with value -1\n",
      "Finding Opponents best move: ((4, 3), (3, 1), (5, 0)) with value -1\n",
      "Finding Opponents best move: ((5, 2), (4, 4), (4, 1)) with value 1\n",
      "Finding Opponents best move: ((4, 5), (3, 1), (4, 1)) with value 0\n",
      "Finding Opponents best move: ((4, 5), (3, 1), (5, 0)) with value -1\n",
      "Finding Opponents best move: ((4, 5), (3, 1), (5, 0)) with value -1\n",
      "Finding Opponents best move: ((4, 5), (4, 4), (4, 1)) with value 1\n",
      "Finding Opponents best move: ((4, 5), (5, 3), (4, 1)) with value -1\n",
      "Finding Opponents best move: ((4, 5), (5, 3), (4, 1)) with value -1\n",
      "Finding Opponents best move: ((4, 4), (3, 2), (5, 1)) with value -inf\n",
      "Finding Opponents best move: ((4, 3), (3, 1), (4, 1)) with value 0\n",
      "Finding Opponents best move: ((4, 3), (3, 1), (5, 0)) with value -1\n",
      "Finding Opponents best move: ((4, 3), (3, 1), (5, 0)) with value -1\n",
      "Finding Opponents best move: ((5, 2), (4, 4), (4, 1)) with value 1\n",
      "Finding Opponents best move: ((4, 5), (3, 1), (4, 1)) with value 0\n",
      "Finding Opponents best move: ((4, 5), (3, 1), (5, 0)) with value -1\n",
      "Finding Opponents best move: ((4, 5), (3, 1), (5, 0)) with value -1\n",
      "Finding Opponents best move: ((4, 5), (4, 4), (4, 1)) with value 1\n",
      "Finding Opponents best move: ((4, 5), (5, 3), (4, 1)) with value -1\n",
      "Finding Opponents best move: ((4, 5), (5, 3), (4, 1)) with value -1\n",
      "Finding Opponents best move: ((3, 4), (4, 0), (5, 0)) with value 2\n",
      "Finding Opponents best move: ((3, 4), (4, 0), (5, 2)) with value 1\n",
      "Finding Opponents best move: ((3, 4), (4, 0), (5, 0)) with value 3\n",
      "Finding Opponents best move: ((4, 4), (4, 1), (5, 1)) with value 3\n",
      "Finding Opponents best move: ((3, 4), (5, 3), (4, 1)) with value 1\n",
      "Finding Opponents best move: ((3, 4), (5, 3), (4, 1)) with value 3\n"
     ]
    },
    {
     "name": "stdout",
     "output_type": "stream",
     "text": [
      "Finding Opponents best move: ((3, 4), (5, 3), (4, 1)) with value 1\n",
      "Finding Opponents best move: ((3, 4), (5, 3), (4, 1)) with value 3\n",
      "Finding Opponents best move: ((4, 3), (4, 0), (5, 0)) with value 2\n",
      "Finding Opponents best move: ((4, 3), (4, 0), (5, 0)) with value 5\n",
      "Finding Opponents best move: ((5, 2), (4, 4), (4, 1)) with value 2\n",
      "Finding Opponents best move: ((5, 2), (4, 4), (4, 1)) with value 5\n",
      "Finding Opponents best move: ((4, 5), (4, 0), (5, 0)) with value 2\n",
      "Finding Opponents best move: ((4, 5), (4, 0), (5, 2)) with value 1\n",
      "Finding Opponents best move: ((4, 5), (4, 0), (5, 0)) with value 5\n",
      "Finding Opponents best move: ((4, 5), (4, 0), (5, 2)) with value 4\n",
      "Finding Opponents best move: ((4, 5), (4, 4), (4, 1)) with value 2\n",
      "Finding Opponents best move: ((4, 5), (5, 3), (4, 1)) with value 1\n",
      "Finding Opponents best move: ((4, 5), (4, 4), (4, 1)) with value 5\n",
      "Finding Opponents best move: ((4, 5), (5, 3), (4, 1)) with value 4\n",
      "Finding Opponents best move: ((4, 5), (5, 3), (4, 1)) with value 1\n",
      "Finding Opponents best move: ((4, 5), (5, 3), (4, 1)) with value 4\n",
      "Finding Opponents best move: ((3, 4), (4, 0), (5, 0)) with value 2\n",
      "Finding Opponents best move: ((3, 4), (4, 0), (5, 2)) with value 1\n",
      "Finding Opponents best move: ((3, 4), (4, 0), (5, 0)) with value 3\n",
      "Finding Opponents best move: ((4, 4), (4, 1), (5, 1)) with value 3\n",
      "Finding Opponents best move: ((3, 4), (5, 3), (4, 1)) with value 1\n",
      "Finding Opponents best move: ((3, 4), (5, 3), (4, 1)) with value 3\n",
      "Finding Opponents best move: ((3, 4), (5, 3), (4, 1)) with value 1\n",
      "Finding Opponents best move: ((3, 4), (5, 3), (4, 1)) with value 3\n",
      "Finding Opponents best move: ((4, 3), (4, 0), (5, 0)) with value 2\n",
      "Finding Opponents best move: ((4, 3), (4, 0), (5, 0)) with value 5\n",
      "Finding Opponents best move: ((5, 2), (4, 4), (4, 1)) with value 2\n",
      "Finding Opponents best move: ((5, 2), (4, 4), (4, 1)) with value 5\n",
      "Finding Opponents best move: ((4, 5), (4, 0), (5, 0)) with value 2\n",
      "Finding Opponents best move: ((4, 5), (4, 0), (5, 2)) with value 1\n",
      "Finding Opponents best move: ((4, 5), (4, 0), (5, 0)) with value 5\n",
      "Finding Opponents best move: ((4, 5), (4, 0), (5, 2)) with value 4\n",
      "Finding Opponents best move: ((4, 5), (4, 4), (4, 1)) with value 2\n",
      "Finding Opponents best move: ((4, 5), (5, 3), (4, 1)) with value 1\n",
      "Finding Opponents best move: ((4, 5), (4, 4), (4, 1)) with value 5\n",
      "Finding Opponents best move: ((4, 5), (5, 3), (4, 1)) with value 4\n",
      "Finding Opponents best move: ((4, 5), (5, 3), (4, 1)) with value 1\n",
      "Finding Opponents best move: ((4, 5), (5, 3), (4, 1)) with value 4\n",
      "3\n",
      "Minimax failed for depth:  4\n",
      "Minimax Test: Failed\n"
     ]
    }
   ],
   "source": [
    "# Algorithm for finding the best move\n",
    "def minimax(player, game, time_left, depth, my_turn=True):\n",
    "    \"\"\"Implementation of the minimax algorithm.\n",
    "    Args:\n",
    "        player (CustomPlayer): This is the instantiation of CustomPlayer()\n",
    "            that represents your agent. It is used to call anything you\n",
    "            need from the CustomPlayer class (the utility() method, for example,\n",
    "            or any class variables that belong to CustomPlayer()).\n",
    "        game (Board): A board and game state.\n",
    "        time_left (function): Used to determine time left before timeout\n",
    "        depth: Used to track how deep you are in the search tree\n",
    "        my_turn (bool): True if you are computing scores during your turn.\n",
    "\n",
    "    Returns:\n",
    "        (tuple, int): best_move, val\n",
    "\n",
    "    # Note:\n",
    "        depth --> tells us when to stop searching the tree\n",
    "    # Steps in the algorithm:\n",
    "    1. Terminal state check. If at the root node, return the utility of the node/state\n",
    "    2. Get all possible moves for the current player\n",
    "    3. Determine if a winner is found for any of the moves from step 2\n",
    "        a. If the winner is MAX, return the move, utility == +inf\n",
    "        b. if the winner is MIN, return the move, utility == -inf\n",
    "\n",
    "    4. If no winner is found, continue searching the game tree by recursively calling MINIMAX to get\n",
    "    the best forecast value\n",
    "    5. Set best_move, best_value to be highest utility moves based on forecasted value\n",
    "\n",
    "    \"\"\"\n",
    "#     player.count += 1\n",
    "\n",
    "    # Determine whose turn it is\n",
    "    if my_turn:\n",
    "        ai_player = game.get_active_player()\n",
    "        cpu_player = game.get_inactive_player()\n",
    "\n",
    "    else:\n",
    "        ai_player = game.get_inactive_player()\n",
    "        cpu_player = game.get_active_player()\n",
    "\n",
    "    ai_moves = game.get_player_moves(my_player=ai_player)\n",
    "    cpu_moves = game.get_opponent_moves(my_player=ai_player)\n",
    "\n",
    "    # Handle time running out\n",
    "    # TODO\n",
    "    # print(f\"Time left {time_left()}\")\n",
    "    #     if time_left() < 10:\n",
    "    #         return None, None\n",
    "\n",
    "    ####################################################################################################\n",
    "    # Search the game tree\n",
    "    ####################################################################################################\n",
    "\n",
    "    # If depth is 0, we know we've arrived at the lowest depth desired. Return number of available moves\n",
    "    # for the AI - number of moves available for the opponent\n",
    "    if depth == 0:\n",
    "        best_value = ai_player.utility(game, my_turn)\n",
    "        return None, best_value\n",
    "\n",
    "    if my_turn:\n",
    "        # Initialize values\n",
    "        max_value = float(\"-inf\")\n",
    "        best_move = None\n",
    "\n",
    "        #         # Get possible moves of the CustomPlayer\n",
    "        #         ai_moves = game.get_player_moves(my_player=current_player)\n",
    "\n",
    "        for move in ai_moves:\n",
    "            #             print(f\"Possible Move: {move}\")\n",
    "\n",
    "            # Check all possible moves to see if a winner can be found\n",
    "            new_board_state, is_over, winner = game.forecast_move(move)\n",
    "\n",
    "            # Check to see if the game is ended while it is the AI's turn and after the next move\n",
    "            next_moves_possible = new_board_state.get_player_moves(my_player=ai_player)\n",
    "\n",
    "            if is_over and len(next_moves_possible) == 0:\n",
    "                #                 print(f\"AI Player: Game is over with move {move}\")\n",
    "                return move, float(\"inf\")\n",
    "\n",
    "            else:\n",
    "                #                 print(f\"Searching game tree for move {move}\")\n",
    "                # Recursively search through the game tree\n",
    "                forecasted_move, forecasted_value = minimax(\n",
    "                    ai_player, new_board_state, time_left, depth=depth - 1, my_turn=False\n",
    "                )\n",
    "\n",
    "                if forecasted_value > max_value:\n",
    "                    #                     print(f\"Swapping Max Value {max_value} with forecasted value {forecasted_value} with move {forecasted_move}\")\n",
    "                    max_value = forecasted_value\n",
    "                    best_move = move\n",
    "                    # print(f\"Found new best move: {best_move} with value {max_value}\")\n",
    "\n",
    "        #         print(f\"Returning Best Move {best_move} with value {max_value}\")\n",
    "        #         print()\n",
    "        return best_move, max_value\n",
    "\n",
    "    else:  # Opponents turn\n",
    "\n",
    "        # Initialize values\n",
    "        min_value = float(\"inf\")\n",
    "        best_move = None\n",
    "\n",
    "        #         # Get possible moves of the CustomPlayer\n",
    "        #         cpu_moves = game.get_opponent_moves(my_player=current_player)\n",
    "\n",
    "        for move in cpu_moves:\n",
    "            #             print(f\"Possible Move: {move}\")\n",
    "\n",
    "            # Check all possible moves to see if a winner can be found\n",
    "            new_board_state, is_over, winner = game.forecast_move(move)\n",
    "\n",
    "            # Check to see if the game is ended while it is the opponents turn and after the next move\n",
    "            next_moves_possible = new_board_state.get_opponent_moves(my_player=ai_player)\n",
    "\n",
    "            if is_over and len(next_moves_possible) == 0:\n",
    "                #                 print(f\"Opponent Player: Game is over with move {move}\")\n",
    "                return move, float(\"-inf\")\n",
    "            else:\n",
    "                #                 print(f\"Searching game tree for move {move}\")\n",
    "                # Recursively search through the game tree\n",
    "                forecasted_move, forecasted_value = minimax(\n",
    "                    ai_player, new_board_state, time_left, depth=depth - 1, my_turn=True\n",
    "                )\n",
    "\n",
    "                if forecasted_value < min_value:\n",
    "                    #                     print(f\"Swapping Max Value {min_value} with forecasted value {forecasted_value} with move {forecasted_move}\")\n",
    "                    min_value = forecasted_value\n",
    "                    best_move = move\n",
    "                    print(f\"Finding Opponents best move: {best_move} with value {min_value}\")\n",
    "\n",
    "        #         print(f\"Returning Best Move {best_move} with value {min_value}\")\n",
    "        #         print()\n",
    "        return best_move, min_value\n",
    "    \n",
    "        \n",
    "\n",
    "\n",
    "######################################################################\n",
    "########## DON'T WRITE ANY CODE OUTSIDE THE FUNCTION! ################\n",
    "######## IF YOU WANT TO CALL OR TEST IT CREATE A NEW CELL ############\n",
    "######################################################################\n",
    "##### CODE BELOW IS USED FOR RUNNING LOCAL TEST DON'T MODIFY IT ######\n",
    "tests.beatRandom(CustomPlayer)\n",
    "tests.algorithmTest(CustomPlayer, minimax, \"Minimax\")\n",
    "################ END OF LOCAL TEST CODE SECTION ######################"
   ]
  },
  {
   "cell_type": "markdown",
   "id": "5f0c1129",
   "metadata": {},
   "source": [
    "### Run Time\n",
    "\n",
    "Minimax Search Depth == 1: Run Time ~ 59 Seconds\n",
    "Minimax Search Depth == 2: Run Time ~1245  Seconds\n",
    "\n",
    "Number of Moves Computed:\n",
    "* Search Depth == 0: 46 Possible Moves (49 Possible moves from start - 3 by first CPU move)\n",
    "* Search Depth == 1: 45! * 44! * 43!"
   ]
  },
  {
   "cell_type": "code",
   "execution_count": 51,
   "id": "ecf8aef8",
   "metadata": {},
   "outputs": [
    {
     "data": {
      "application/vnd.jupyter.widget-view+json": {
       "model_id": "116eecf78ab64dfebbe88fcd6c25aaef",
       "version_major": 2,
       "version_minor": 0
      },
      "text/plain": [
       "GridspecLayout(children=(Button(description=' ', layout=Layout(grid_area='widget001', height='auto', width='au…"
      ]
     },
     "metadata": {},
     "output_type": "display_data"
    },
    {
     "data": {
      "application/vnd.jupyter.widget-view+json": {
       "model_id": "b1292f0be9ca43e2a931e0ca525bfe64",
       "version_major": 2,
       "version_minor": 0
      },
      "text/plain": [
       "Output(layout=Layout(border='1px solid black'))"
      ]
     },
     "metadata": {},
     "output_type": "display_data"
    },
    {
     "data": {
      "application/vnd.jupyter.widget-view+json": {
       "model_id": "9a5082a854bb412ea89f0dc4bb4c0100",
       "version_major": 2,
       "version_minor": 0
      },
      "text/plain": [
       "Button(description='Start', layout=Layout(height='50', width='100'), style=ButtonStyle())"
      ]
     },
     "metadata": {},
     "output_type": "display_data"
    },
    {
     "data": {
      "application/vnd.jupyter.widget-view+json": {
       "model_id": "7c2fa3e444db47bd83ea0178e6ece464",
       "version_major": 2,
       "version_minor": 0
      },
      "text/plain": [
       "Output()"
      ]
     },
     "metadata": {},
     "output_type": "display_data"
    }
   ],
   "source": [
    "from interactive_board_viz import PlayInteractiveGame\n",
    "from isolation import Board\n",
    "# from board_viz import InteractiveGame\n",
    "from custom_player import CustomAIPlayer\n",
    "\n",
    "##### NOTE: Need to click the squares order in which they move\n",
    "\n",
    "# Remove the first argument ('RandomPlayer()') entirely to play against another HumanPlayer\n",
    "ai_player = CustomAIPlayer(search_depth=1)\n",
    "ig = PlayInteractiveGame(player1 = RandomPlayer(), opponent = ai_player, show_legal_moves=True)\n",
    "# ig = InteractiveGame(opponent = RandomPlayer(), show_legal_moves=True)"
   ]
  },
  {
   "cell_type": "code",
   "execution_count": 50,
   "id": "9da1e9a6",
   "metadata": {},
   "outputs": [
    {
     "data": {
      "text/plain": [
       "0"
      ]
     },
     "execution_count": 50,
     "metadata": {},
     "output_type": "execute_result"
    }
   ],
   "source": [
    "ai_player.count"
   ]
  },
  {
   "cell_type": "code",
   "execution_count": 31,
   "id": "50e2a8cc",
   "metadata": {},
   "outputs": [
    {
     "ename": "NameError",
     "evalue": "name 'widgets' is not defined",
     "output_type": "error",
     "traceback": [
      "\u001b[0;31m---------------------------------------------------------------------------\u001b[0m",
      "\u001b[0;31mNameError\u001b[0m                                 Traceback (most recent call last)",
      "\u001b[0;32m/var/folders/w6/0f2_jzl144726jrph2y2bn5h0000gn/T/ipykernel_39402/1660375827.py\u001b[0m in \u001b[0;36m<module>\u001b[0;34m\u001b[0m\n\u001b[1;32m      1\u001b[0m \u001b[0;32mfrom\u001b[0m \u001b[0mIPython\u001b[0m\u001b[0;34m.\u001b[0m\u001b[0mdisplay\u001b[0m \u001b[0;32mimport\u001b[0m \u001b[0mdisplay\u001b[0m\u001b[0;34m\u001b[0m\u001b[0;34m\u001b[0m\u001b[0m\n\u001b[0;32m----> 2\u001b[0;31m \u001b[0mbutton\u001b[0m \u001b[0;34m=\u001b[0m \u001b[0mwidgets\u001b[0m\u001b[0;34m.\u001b[0m\u001b[0mButton\u001b[0m\u001b[0;34m(\u001b[0m\u001b[0mdescription\u001b[0m\u001b[0;34m=\u001b[0m\u001b[0;34m\"Click Me!\"\u001b[0m\u001b[0;34m)\u001b[0m\u001b[0;34m\u001b[0m\u001b[0;34m\u001b[0m\u001b[0m\n\u001b[0m\u001b[1;32m      3\u001b[0m \u001b[0moutput\u001b[0m \u001b[0;34m=\u001b[0m \u001b[0mwidgets\u001b[0m\u001b[0;34m.\u001b[0m\u001b[0mOutput\u001b[0m\u001b[0;34m(\u001b[0m\u001b[0;34m)\u001b[0m\u001b[0;34m\u001b[0m\u001b[0;34m\u001b[0m\u001b[0m\n\u001b[1;32m      4\u001b[0m \u001b[0;34m\u001b[0m\u001b[0m\n\u001b[1;32m      5\u001b[0m \u001b[0mdisplay\u001b[0m\u001b[0;34m(\u001b[0m\u001b[0mbutton\u001b[0m\u001b[0;34m,\u001b[0m \u001b[0moutput\u001b[0m\u001b[0;34m)\u001b[0m\u001b[0;34m\u001b[0m\u001b[0;34m\u001b[0m\u001b[0m\n",
      "\u001b[0;31mNameError\u001b[0m: name 'widgets' is not defined"
     ]
    }
   ],
   "source": [
    "from IPython.display import display\n",
    "button = widgets.Button(description=\"Click Me!\")\n",
    "output = widgets.Output()\n",
    "\n",
    "display(button, output)\n",
    "\n",
    "def on_button_clicked(b):\n",
    "    with output:\n",
    "        print(\"Button clicked.\")\n",
    "\n",
    "button.on_click(on_button_clicked)"
   ]
  },
  {
   "cell_type": "markdown",
   "id": "0c09a908",
   "metadata": {},
   "source": [
    "# TODO\n",
    "\n",
    "- Try iterative deepening approach\n",
    "- Implement Alpha-Beta Pruning\n",
    "- Try using transposition tables"
   ]
  }
 ],
 "metadata": {
  "kernelspec": {
   "display_name": "Python 3 (ipykernel)",
   "language": "python",
   "name": "python3"
  },
  "language_info": {
   "codemirror_mode": {
    "name": "ipython",
    "version": 3
   },
   "file_extension": ".py",
   "mimetype": "text/x-python",
   "name": "python",
   "nbconvert_exporter": "python",
   "pygments_lexer": "ipython3",
   "version": "3.7.11"
  }
 },
 "nbformat": 4,
 "nbformat_minor": 5
}
